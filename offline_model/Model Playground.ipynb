{
 "cells": [
  {
   "cell_type": "markdown",
   "metadata": {},
   "source": [
    "# Model Playground"
   ]
  },
  {
   "cell_type": "code",
   "execution_count": 1,
   "metadata": {},
   "outputs": [],
   "source": [
    "import numpy as np"
   ]
  },
  {
   "cell_type": "markdown",
   "metadata": {},
   "source": [
    "## Iteration 1"
   ]
  },
  {
   "cell_type": "code",
   "execution_count": 3,
   "metadata": {},
   "outputs": [],
   "source": [
    "def cosine_similarity(x, y):\n",
    "    norm_x = np.linalg.norm(x)\n",
    "    norm_y = np.linalg.norm(y)\n",
    "    return x.dot(y) / (norm_x * norm_y)\n",
    "\n",
    "def avg_cos_sim_affinity(menu_item_vec, historical_orders_vecs):\n",
    "    total_cosine_sim = 0\n",
    "    for historical_order_vec in historical_orders_vecs:\n",
    "        total_cosine_sim += cosine_similarity(menu_item_vec, historical_order_vec)\n",
    "    return total_cosine_sim / len(historical_orders_vecs)\n",
    "\n",
    "def construct_feature_vector(menu_item):\n",
    "    feature_vec = []\n",
    "    feature_vec.append(menu_item.price)\n",
    "    feature_vec.append(menu_item.carbs)\n",
    "    feature_vec.append(menu_item.protein)\n",
    "    feature_vec.append(menu_item.fat)\n",
    "    feature_vec.append(menu_item.calories)\n",
    "    return np.array(feature_vec)\n",
    "\n",
    "def construct_feature_vectors(items):\n",
    "    return [construct_feature_vector(item) for item in items]"
   ]
  },
  {
   "cell_type": "code",
   "execution_count": null,
   "metadata": {},
   "outputs": [],
   "source": [
    "def run_suggestion_model(historic_orders, menu_items):\n",
    "    historical_orders_vecs = construct_feature_vectors(historic_orders)\n",
    "    menu_item_vecs = construct_feature_vectors(menu_items)"
   ]
  }
 ],
 "metadata": {
  "anaconda-cloud": {},
  "kernelspec": {
   "display_name": "Python [conda root]",
   "language": "python",
   "name": "conda-root-py"
  },
  "language_info": {
   "codemirror_mode": {
    "name": "ipython",
    "version": 3.0
   },
   "file_extension": ".py",
   "mimetype": "text/x-python",
   "name": "python",
   "nbconvert_exporter": "python",
   "pygments_lexer": "ipython3",
   "version": "3.5.2"
  }
 },
 "nbformat": 4,
 "nbformat_minor": 1
}