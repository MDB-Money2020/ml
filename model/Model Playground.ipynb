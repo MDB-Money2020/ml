{
 "cells": [
  {
   "cell_type": "markdown",
   "metadata": {},
   "source": [
    "# Model Playground"
   ]
  },
  {
   "cell_type": "code",
   "execution_count": 1,
   "metadata": {},
   "outputs": [],
   "source": [
    "import numpy as np\n",
    "import heapq"
   ]
  },
  {
   "cell_type": "markdown",
   "metadata": {},
   "source": [
    "## Iteration 1"
   ]
  },
  {
   "cell_type": "code",
   "execution_count": 2,
   "metadata": {},
   "outputs": [],
   "source": [
    "class MenuItem:\n",
    "    def __init__(self, menu_item_id, title, category, description, image_url, price, restaurant_id,\n",
    "                 carbs, protein, fat, calories, ingredients):\n",
    "        self.menu_item_id = menu_item_id\n",
    "        self.title = title\n",
    "        self.category = category\n",
    "        self.description = description\n",
    "        self.image_url = image_url\n",
    "        self.price = price\n",
    "        self.restaurant_id = restaurant_id\n",
    "        self.carbs = carbs\n",
    "        self.protein = protein\n",
    "        self.fat = fat\n",
    "        self.calories = calories\n",
    "        self.ingredients = ingredients\n",
    "\n",
    "    @classmethod\n",
    "    def construct_from_dict(cls, menu_item_dict):\n",
    "        return MenuItem(menu_item_dict.menu_item_id, menu_item_dict.title, menu_item_dict.category,\n",
    "                        menu_item_dict.description, menu_item_dict.image_url, menu_item_dict.price,\n",
    "                        menu_item_dict.restaurant_id, menu_item_dict.carbs, menu_item_dict.protein,\n",
    "                        menu_item_dict.fat, menu_item_dict.calories, menu_item_dict.ingredients)"
   ]
  },
  {
   "cell_type": "code",
   "execution_count": 5,
   "metadata": {},
   "outputs": [],
   "source": [
    "def cosine_similarity(x, y):\n",
    "    norm_x = np.linalg.norm(x)\n",
    "    norm_y = np.linalg.norm(y)\n",
    "    return x.dot(y) / (norm_x * norm_y)\n",
    "\n",
    "def avg_cos_sim_affinity(menu_item_vec, historical_orders_vecs):\n",
    "    total_cosine_sim = 0\n",
    "    for historical_order_vec in historical_orders_vecs:\n",
    "        total_cosine_sim += cosine_similarity(menu_item_vec, historical_order_vec)\n",
    "    return total_cosine_sim / len(historical_orders_vecs)\n",
    "\n",
    "def construct_feature_vector(menu_item):\n",
    "    feature_vec = []\n",
    "    feature_vec.append(menu_item.price)\n",
    "    feature_vec.append(menu_item.carbs)\n",
    "    feature_vec.append(menu_item.protein)\n",
    "    feature_vec.append(menu_item.fat)\n",
    "    feature_vec.append(menu_item.calories)\n",
    "    return np.array(feature_vec)\n",
    "\n",
    "def construct_feature_vectors(items):\n",
    "    return [construct_feature_vector(item) for item in items]\n",
    "\n",
    "class HeapNode:\n",
    "    def __init__(self, index, value):\n",
    "        self.index = index\n",
    "        self.value = value\n",
    "    def __eq__(self, other):\n",
    "        return self.value == other.value\n",
    "    def __lt__(self, other):\n",
    "        return self.value < other.value\n",
    "    \n",
    "def select_top_suggestions(historical_orders, menu_items, affinity_measure, num_elem):\n",
    "    pq = heapify([])\n",
    "    for index in range(len(menu_items)):\n",
    "        heappush(pq, HeapNode(index, menu_items[index]))\n",
    "    return [heappop(pq).value for _ in range(num_elem)]\n",
    "\n",
    "def normalize_demean(vecs):\n",
    "    for vec in vecs:\n",
    "        for index in range(len(vec)):\n",
    "            vec[index] = vec[index] - global_mean[index]\n",
    "            vec[index] = vec[index] / sqrt(global_variance[index])"
   ]
  },
  {
   "cell_type": "code",
   "execution_count": 6,
   "metadata": {},
   "outputs": [],
   "source": [
    "def run_suggestion_model(historic_orders, menu_items):\n",
    "    num_to_return = min(len(menu_items), 3)\n",
    "    historical_orders_vecs = construct_feature_vectors(historic_orders)\n",
    "    menu_item_vecs = construct_feature_vectors(menu_items)\n",
    "    normalize_demean(historic_orders)\n",
    "    normalize_demean(menu_item_vecs)\n",
    "    return select_top_suggestions(historical_orders_vec, menu_items_vec, avg_cos_sim_affinity, num_to_return)"
   ]
  },
  {
   "cell_type": "code",
   "execution_count": null,
   "metadata": {},
   "outputs": [],
   "source": [
    ""
   ]
  }
 ],
 "metadata": {
  "anaconda-cloud": {},
  "kernelspec": {
   "display_name": "Python [conda root]",
   "language": "python",
   "name": "conda-root-py"
  },
  "language_info": {
   "codemirror_mode": {
    "name": "ipython",
    "version": 3.0
   },
   "file_extension": ".py",
   "mimetype": "text/x-python",
   "name": "python",
   "nbconvert_exporter": "python",
   "pygments_lexer": "ipython3",
   "version": "3.5.2"
  }
 },
 "nbformat": 4,
 "nbformat_minor": 1
}